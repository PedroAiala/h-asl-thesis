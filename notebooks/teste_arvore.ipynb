{
 "cells": [
  {
   "cell_type": "code",
   "execution_count": 1,
   "id": "8d5d703f",
   "metadata": {},
   "outputs": [],
   "source": [
    "import pickle\n",
    "import rootutils\n",
    "from pathlib import Path\n",
    "import sys\n",
    "\n",
    "root_path = rootutils.setup_root(\".\", indicator=\".project-root\", pythonpath=True)\n",
    "\n",
    "src_path = Path(root_path) / \"src\"\n",
    "if str(src_path) not in sys.path:\n",
    "    sys.path.append(str(src_path))\n",
    "\n",
    "from tree_builder import TreeBuilder\n"
   ]
  },
  {
   "cell_type": "code",
   "execution_count": 2,
   "id": "184085e4",
   "metadata": {},
   "outputs": [
    {
     "name": "stdout",
     "output_type": "stream",
     "text": [
      "Starting TreeBuilder...\n",
      "   -> Loading embeddings from 'C:\\Users\\pedro\\OneDrive\\Documentos\\git\\h-asl-thesis\\data\\lfw_embeddings_processados.pkl'...\n",
      "   -> Building DataFrame from 'names' and 'embeddings' keys...\n",
      "   -> Calculating mean embeddings for each identity...\n",
      "   -> Dados preparados. 1680 identidades únicas encontradas.\n",
      "\n",
      " Iniciando a construção da Árvore Hierárquica...\n",
      "I-> Dividindo nó com 20 identidades no nível 0...\n",
      "  I-> Dividindo nó com 8 identidades no nível 1...\n",
      "    I-> Dividindo nó com 3 identidades no nível 2...\n",
      "      L-> Nó Folha criado com a identidade: Owen Wilson\n",
      "      I-> Dividindo nó com 2 identidades no nível 3...\n",
      "        L-> Nó Folha criado com a identidade: Tony Bennett\n",
      "        L-> Nó Folha criado com a identidade: Hassan Wirajuda\n",
      "    I-> Dividindo nó com 5 identidades no nível 2...\n",
      "      I-> Dividindo nó com 3 identidades no nível 3...\n",
      "        I-> Dividindo nó com 2 identidades no nível 4...\n",
      "          L-> Nó Folha criado com a identidade: Lynn Abraham\n",
      "          L-> Nó Folha criado com a identidade: George Galloway\n",
      "        L-> Nó Folha criado com a identidade: Sheila Copps\n",
      "      I-> Dividindo nó com 2 identidades no nível 3...\n",
      "        L-> Nó Folha criado com a identidade: Johnny Unitas\n",
      "        L-> Nó Folha criado com a identidade: Inocencio Arias\n",
      "  I-> Dividindo nó com 12 identidades no nível 1...\n",
      "    I-> Dividindo nó com 4 identidades no nível 2...\n",
      "      L-> Nó Folha criado com a identidade: Drew Barrymore\n",
      "      I-> Dividindo nó com 3 identidades no nível 3...\n",
      "        L-> Nó Folha criado com a identidade: Lynne Cheney\n",
      "        I-> Dividindo nó com 2 identidades no nível 4...\n",
      "          L-> Nó Folha criado com a identidade: Ben Affleck\n",
      "          L-> Nó Folha criado com a identidade: Aitor Gonzalez\n",
      "    I-> Dividindo nó com 8 identidades no nível 2...\n",
      "      I-> Dividindo nó com 4 identidades no nível 3...\n",
      "        I-> Dividindo nó com 2 identidades no nível 4...\n",
      "          L-> Nó Folha criado com a identidade: Augusto Roa Bastos\n",
      "          L-> Nó Folha criado com a identidade: Scott Wolf\n",
      "        I-> Dividindo nó com 2 identidades no nível 4...\n",
      "          L-> Nó Folha criado com a identidade: John Allen Muhammad\n",
      "          L-> Nó Folha criado com a identidade: Michel Therrien\n",
      "      I-> Dividindo nó com 4 identidades no nível 3...\n",
      "        I-> Dividindo nó com 2 identidades no nível 4...\n",
      "          L-> Nó Folha criado com a identidade: Dennis Kozlowski\n",
      "          L-> Nó Folha criado com a identidade: Justine Henin\n",
      "        I-> Dividindo nó com 2 identidades no nível 4...\n",
      "          L-> Nó Folha criado com a identidade: Michael Bloomberg\n",
      "          L-> Nó Folha criado com a identidade: Katherine Harris\n",
      " Árvore construída com sucesso!\n"
     ]
    }
   ],
   "source": [
    "# --- Parâmetros ---\n",
    "EMBEDDINGS_FILE = root_path / \"data\" / \"lfw_embeddings_processados.pkl\"\n",
    "OUTPUT_TREE_FILE = root_path / \"data\" / \"identity_tree.pkl\"\n",
    "MAX_LEAF_SIZE = 1 \n",
    "\n",
    "# --- Verificações ---\n",
    "EMBEDDINGS_FILE = root_path / \"data\" / \"lfw_embeddings_processados.pkl\"\n",
    "OUTPUT_TREE_FILE = root_path / \"data\" / \"identity_tree.pkl\"\n",
    "MAX_LEAF_SIZE = 1 \n",
    "\n",
    "# --- Verificação ---\n",
    "assert EMBEDDINGS_FILE.exists(), f\"ERRO: Arquivo de embeddings não encontrado em '{EMBEDDINGS_FILE}'\"\n",
    "\n",
    "# --- Execução ---\n",
    "builder = TreeBuilder(\n",
    "    embeddings_path=EMBEDDINGS_FILE,\n",
    "    max_leaf_size=MAX_LEAF_SIZE\n",
    ")\n",
    "\n",
    "builder.build_tree(qtd_identities=20)  \n"
   ]
  },
  {
   "cell_type": "code",
   "execution_count": 3,
   "id": "4bcae735",
   "metadata": {},
   "outputs": [],
   "source": [
    "root_node = builder.root"
   ]
  },
  {
   "cell_type": "code",
   "execution_count": 5,
   "id": "651fe187",
   "metadata": {},
   "outputs": [
    {
     "name": "stdout",
     "output_type": "stream",
     "text": [
      "100\n"
     ]
    }
   ],
   "source": [
    "print(len(root_node.identities))"
   ]
  },
  {
   "cell_type": "code",
   "execution_count": 7,
   "id": "21f31ade",
   "metadata": {},
   "outputs": [
    {
     "name": "stdout",
     "output_type": "stream",
     "text": [
      "LLLLRLL\n"
     ]
    }
   ],
   "source": [
    "builder.find_identity('Rita Grande')"
   ]
  },
  {
   "cell_type": "code",
   "execution_count": null,
   "id": "59a3bb98",
   "metadata": {},
   "outputs": [
    {
     "name": "stdout",
     "output_type": "stream",
     "text": [
      "--- Inspecionando Nó ---\n",
      "Tipo: INTERNAL\n",
      "Número de Identidades: 100\n",
      "Filho Esquerda (Left): Contém 46 identidades.\n",
      "Filho Direita (Right): Contém 54 identidades.\n"
     ]
    }
   ],
   "source": []
  },
  {
   "cell_type": "code",
   "execution_count": 3,
   "id": "d3b4e420",
   "metadata": {},
   "outputs": [
    {
     "name": "stdout",
     "output_type": "stream",
     "text": [
      "   -> Árvore salva como 'tree_visualization.png' e aberta para visualização.\n"
     ]
    }
   ],
   "source": [
    "builder.visualize_tree_as_graph()"
   ]
  }
 ],
 "metadata": {
  "kernelspec": {
   "display_name": "h-asl-thesis",
   "language": "python",
   "name": "python3"
  },
  "language_info": {
   "codemirror_mode": {
    "name": "ipython",
    "version": 3
   },
   "file_extension": ".py",
   "mimetype": "text/x-python",
   "name": "python",
   "nbconvert_exporter": "python",
   "pygments_lexer": "ipython3",
   "version": "3.9.23"
  }
 },
 "nbformat": 4,
 "nbformat_minor": 5
}

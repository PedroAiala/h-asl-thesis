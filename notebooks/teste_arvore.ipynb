{
 "cells": [
  {
   "cell_type": "code",
   "execution_count": null,
   "id": "8d5d703f",
   "metadata": {},
   "outputs": [
    {
     "ename": "ImportError",
     "evalue": "cannot import name 'TreeBuilder' from 'src.tree_builder' (C:\\Users\\pedro\\OneDrive\\Documentos\\git\\h-asl-thesis\\src\\tree_builder.py)",
     "output_type": "error",
     "traceback": [
      "\u001b[1;31m---------------------------------------------------------------------------\u001b[0m",
      "\u001b[1;31mImportError\u001b[0m                               Traceback (most recent call last)",
      "Cell \u001b[1;32mIn[18], line 9\u001b[0m\n\u001b[0;32m      6\u001b[0m root_path \u001b[38;5;241m=\u001b[39m rootutils\u001b[38;5;241m.\u001b[39msetup_root(\u001b[38;5;124m\"\u001b[39m\u001b[38;5;124m.\u001b[39m\u001b[38;5;124m\"\u001b[39m, indicator\u001b[38;5;241m=\u001b[39m\u001b[38;5;124m\"\u001b[39m\u001b[38;5;124m.project-root\u001b[39m\u001b[38;5;124m\"\u001b[39m, pythonpath\u001b[38;5;241m=\u001b[39m\u001b[38;5;28;01mTrue\u001b[39;00m) \n\u001b[0;32m      8\u001b[0m \u001b[38;5;66;03m# Esta importação agora vai funcionar\u001b[39;00m\n\u001b[1;32m----> 9\u001b[0m \u001b[38;5;28;01mfrom\u001b[39;00m\u001b[38;5;250m \u001b[39m\u001b[38;5;21;01msrc\u001b[39;00m\u001b[38;5;21;01m.\u001b[39;00m\u001b[38;5;21;01mtree_builder\u001b[39;00m\u001b[38;5;250m \u001b[39m\u001b[38;5;28;01mimport\u001b[39;00m TreeBuilder\n\u001b[0;32m     11\u001b[0m \u001b[38;5;28mprint\u001b[39m(\u001b[38;5;124mf\u001b[39m\u001b[38;5;124m\"\u001b[39m\u001b[38;5;124mRaiz do projeto encontrada em: \u001b[39m\u001b[38;5;132;01m{\u001b[39;00mroot_path\u001b[38;5;132;01m}\u001b[39;00m\u001b[38;5;124m\"\u001b[39m)\n\u001b[0;32m     12\u001b[0m \u001b[38;5;28mprint\u001b[39m(\u001b[38;5;124m\"\u001b[39m\u001b[38;5;124mMódulo \u001b[39m\u001b[38;5;124m'\u001b[39m\u001b[38;5;124mTreeBuilder\u001b[39m\u001b[38;5;124m'\u001b[39m\u001b[38;5;124m importado com sucesso!\u001b[39m\u001b[38;5;124m\"\u001b[39m)\n",
      "\u001b[1;31mImportError\u001b[0m: cannot import name 'TreeBuilder' from 'src.tree_builder' (C:\\Users\\pedro\\OneDrive\\Documentos\\git\\h-asl-thesis\\src\\tree_builder.py)"
     ]
    }
   ],
   "source": [
    "import pickle\n",
    "import rootutils\n",
    "from pathlib import Path\n",
    "import sys\n",
    "\n",
    "# Encontra a raiz do projeto e adiciona 'src' ao PYTHONPATH\n",
    "root_path = rootutils.setup_root(\".\", indicator=\".project-root\", pythonpath=True)\n",
    "\n",
    "# Adiciona manualmente o diretório src ao sys.path\n",
    "src_path = Path(root_path) / \"src\"\n",
    "if str(src_path) not in sys.path:\n",
    "    sys.path.append(str(src_path))\n",
    "\n",
    "# Agora a importação funciona\n",
    "from tree_builder import TreeBuilder\n",
    "\n",
    "print(f\"Raiz do projeto encontrada em: {root_path}\")\n",
    "print(\"Módulo 'TreeBuilder' importado com sucesso!\")"
   ]
  },
  {
   "cell_type": "code",
   "execution_count": 10,
   "id": "184085e4",
   "metadata": {},
   "outputs": [
    {
     "name": "stdout",
     "output_type": "stream",
     "text": [
      "Parâmetros configurados:\n",
      " - Arquivo de Embeddings: 'C:\\Users\\pedro\\OneDrive\\Documentos\\git\\h-asl-thesis\\data\\lfw_embeddings_processados.pkl'\n",
      " - Arquivo de Saída da Árvore: 'C:\\Users\\pedro\\OneDrive\\Documentos\\git\\h-asl-thesis\\data\\identity_tree.pkl'\n"
     ]
    }
   ],
   "source": [
    "# --- Parâmetros ---\n",
    "EMBEDDINGS_FILE = root_path / \"data\" / \"lfw_embeddings_processados.pkl\"\n",
    "OUTPUT_TREE_FILE = root_path / \"data\" / \"identity_tree.pkl\"\n",
    "MAX_LEAF_SIZE = 1 \n",
    "\n",
    "# --- Verificações ---\n",
    "assert EMBEDDINGS_FILE.exists(), f\"ARQUIVO DE EMBEDDINGS NÃO ENCONTRADO: {EMBEDDINGS_FILE}\"\n",
    "OUTPUT_TREE_FILE.parent.mkdir(exist_ok=True) # Cria a pasta 'data' se não existir\n",
    "\n",
    "print(\"Parâmetros configurados:\")\n",
    "print(f\" - Arquivo de Embeddings: '{EMBEDDINGS_FILE}'\")\n",
    "print(f\" - Arquivo de Saída da Árvore: '{OUTPUT_TREE_FILE}'\")"
   ]
  },
  {
   "cell_type": "code",
   "execution_count": 15,
   "id": "3c7ec63d",
   "metadata": {},
   "outputs": [
    {
     "ename": "AttributeError",
     "evalue": "module 'src.tree_builder' has no attribute 'TreeBuilder'",
     "output_type": "error",
     "traceback": [
      "\u001b[1;31m---------------------------------------------------------------------------\u001b[0m",
      "\u001b[1;31mAttributeError\u001b[0m                            Traceback (most recent call last)",
      "Cell \u001b[1;32mIn[15], line 2\u001b[0m\n\u001b[0;32m      1\u001b[0m \u001b[38;5;66;03m# 1. Instancia o construtor, passando o caminho do arquivo como parâmetro.\u001b[39;00m\n\u001b[1;32m----> 2\u001b[0m builder \u001b[38;5;241m=\u001b[39m \u001b[43mtree_builder\u001b[49m\u001b[38;5;241;43m.\u001b[39;49m\u001b[43mTreeBuilder\u001b[49m(\n\u001b[0;32m      3\u001b[0m     embeddings_path\u001b[38;5;241m=\u001b[39mEMBEDDINGS_FILE,\n\u001b[0;32m      4\u001b[0m     max_leaf_size\u001b[38;5;241m=\u001b[39mMAX_LEAF_SIZE\n\u001b[0;32m      5\u001b[0m )\n\u001b[0;32m      7\u001b[0m \u001b[38;5;66;03m# 2. Executa a construção da árvore\u001b[39;00m\n\u001b[0;32m      8\u001b[0m builder\u001b[38;5;241m.\u001b[39mbuild_tree()\n",
      "\u001b[1;31mAttributeError\u001b[0m: module 'src.tree_builder' has no attribute 'TreeBuilder'"
     ]
    }
   ],
   "source": [
    "# 1. Instancia o construtor, passando o caminho do arquivo como parâmetro.\n",
    "builder = tree_builder.TreeBuilder(\n",
    "    embeddings_path=EMBEDDINGS_FILE,\n",
    "    max_leaf_size=MAX_LEAF_SIZE\n",
    ")\n",
    "\n",
    "# 2. Executa a construção da árvore\n",
    "builder.build_tree()\n",
    "\n",
    "# 3. Salva a árvore\n",
    "builder.save_tree(OUTPUT_TREE_FILE)"
   ]
  }
 ],
 "metadata": {
  "kernelspec": {
   "display_name": "h-asl-thesis",
   "language": "python",
   "name": "python3"
  },
  "language_info": {
   "codemirror_mode": {
    "name": "ipython",
    "version": 3
   },
   "file_extension": ".py",
   "mimetype": "text/x-python",
   "name": "python",
   "nbconvert_exporter": "python",
   "pygments_lexer": "ipython3",
   "version": "3.9.23"
  }
 },
 "nbformat": 4,
 "nbformat_minor": 5
}

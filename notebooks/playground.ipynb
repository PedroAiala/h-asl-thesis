{
 "cells": [
  {
   "cell_type": "code",
   "execution_count": null,
   "id": "fb5aacb6",
   "metadata": {},
   "outputs": [],
   "source": [
    "import rootutils\n"
   ]
  },
  {
   "cell_type": "code",
   "execution_count": 7,
   "id": "e55a72fd",
   "metadata": {},
   "outputs": [],
   "source": [
    "root_path = rootutils.setup_root(\".\", indicator=\".project-root\", pythonpath=True)  "
   ]
  },
  {
   "cell_type": "code",
   "execution_count": null,
   "id": "199e60d4",
   "metadata": {},
   "outputs": [],
   "source": [
    "from src.data_loader import load_lfw_dataset"
   ]
  },
  {
   "cell_type": "code",
   "execution_count": 11,
   "id": "5701c8bf",
   "metadata": {},
   "outputs": [],
   "source": [
    "x, y, target_names = load_lfw_dataset(min_faces=80, resize_factor=0.8)"
   ]
  },
  {
   "cell_type": "code",
   "execution_count": null,
   "id": "cc2cc45d",
   "metadata": {},
   "outputs": [],
   "source": []
  }
 ],
 "metadata": {
  "kernelspec": {
   "display_name": "h-asl-thesis",
   "language": "python",
   "name": "python3"
  },
  "language_info": {
   "codemirror_mode": {
    "name": "ipython",
    "version": 3
   },
   "file_extension": ".py",
   "mimetype": "text/x-python",
   "name": "python",
   "nbconvert_exporter": "python",
   "pygments_lexer": "ipython3",
   "version": "3.9.23"
  }
 },
 "nbformat": 4,
 "nbformat_minor": 5
}
